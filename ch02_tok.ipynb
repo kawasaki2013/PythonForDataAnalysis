{
 "metadata": {
  "name": "",
  "signature": "sha256:3abd8b57700c19267f8ca3b3d7e49fa09bda601d4e63a73d36865d380caacc32"
 },
 "nbformat": 3,
 "nbformat_minor": 0,
 "worksheets": [
  {
   "cells": [
    {
     "cell_type": "markdown",
     "metadata": {},
     "source": [
      "# Python\u306b\u3088\u308b\u30c7\u30fc\u30bf\u5206\u6790\u5165\u9580\u306e\u5199\u7d4c\n",
      "\n",
      "* ch02.py\u306e\u7d9a\u304d\u3092ipython\u3067\u3084\u3063\u3066\u3044\u304f\n",
      "\n",
      "* ch02.py\u3067\u3084\u3063\u305f\u3053\u3068(p.24\u307e\u3067)\n",
      " - pandas\u3092\u4f7f\u3063\u3066\u898b\u308b\n",
      " - \u30b5\u30f3\u30d7\u30eb\u30c7\u30fc\u30bf\u3067\u30bf\u30a4\u30e0\u30be\u30fc\u30f3\u306e\u96c6\u8a08\u3092\u3059\u308b\n",
      " - UA\u306e\u96c6\u8a08\u3092\u3084\u3063\u3066\u307f\u308b\n",
      " \n",
      " \u307e\u305a\u306f\u5fc5\u8981\u306a\u30c7\u30fc\u30bf\u3092\u8aad\u3080\u3068\u304b\u3001ch02.py\u3067\u3084\u3063\u305f\u3053\u3068\u306e\u304a\u3055\u3089\u3044\u3002"
     ]
    },
    {
     "cell_type": "markdown",
     "metadata": {},
     "source": [
      "## JSON\u5f62\u5f0f\u306e\u30c7\u30fc\u30bf\u3092\u8aad\u307f\u8fbc\u3093\u3067\u307f\u308b"
     ]
    },
    {
     "cell_type": "code",
     "collapsed": false,
     "input": [
      "path = 'pydata-book/ch02/usagov_bitly_data2012-03-16-1331923249.txt'\n",
      "open(path).readline() # JSON\u6587\u5b57\u5217"
     ],
     "language": "python",
     "metadata": {},
     "outputs": [
      {
       "metadata": {},
       "output_type": "pyout",
       "prompt_number": 3,
       "text": [
        "'{ \"a\": \"Mozilla\\\\/5.0 (Windows NT 6.1; WOW64) AppleWebKit\\\\/535.11 (KHTML, like Gecko) Chrome\\\\/17.0.963.78 Safari\\\\/535.11\", \"c\": \"US\", \"nk\": 1, \"tz\": \"America\\\\/New_York\", \"gr\": \"MA\", \"g\": \"A6qOVH\", \"h\": \"wfLQtf\", \"l\": \"orofrog\", \"al\": \"en-US,en;q=0.8\", \"hh\": \"1.usa.gov\", \"r\": \"http:\\\\/\\\\/www.facebook.com\\\\/l\\\\/7AQEFzjSi\\\\/1.usa.gov\\\\/wfLQtf\", \"u\": \"http:\\\\/\\\\/www.ncbi.nlm.nih.gov\\\\/pubmed\\\\/22415991\", \"t\": 1331923247, \"hc\": 1331822918, \"cy\": \"Danvers\", \"ll\": [ 42.576698, -70.954903 ] }\\n'"
       ]
      }
     ],
     "prompt_number": 3
    },
    {
     "cell_type": "code",
     "collapsed": false,
     "input": [
      "import json\n",
      "records = [json.loads(line) for line in open(path)]\n",
      "print records[0] # \u30ea\u30b9\u30c8\u306b\u306a\u3063\u305f\n",
      "print records[1]['tz'] # \uff11\u756a\u76ee\u306erecord\u304b\u3089tz\u306e\u8981\u7d20\u3092\u53d6\u5f97"
     ],
     "language": "python",
     "metadata": {},
     "outputs": [
      {
       "output_type": "stream",
       "stream": "stdout",
       "text": [
        "{u'a': u'Mozilla/5.0 (Windows NT 6.1; WOW64) AppleWebKit/535.11 (KHTML, like Gecko) Chrome/17.0.963.78 Safari/535.11', u'c': u'US', u'nk': 1, u'tz': u'America/New_York', u'gr': u'MA', u'g': u'A6qOVH', u'h': u'wfLQtf', u'cy': u'Danvers', u'l': u'orofrog', u'al': u'en-US,en;q=0.8', u'hh': u'1.usa.gov', u'r': u'http://www.facebook.com/l/7AQEFzjSi/1.usa.gov/wfLQtf', u'u': u'http://www.ncbi.nlm.nih.gov/pubmed/22415991', u't': 1331923247, u'hc': 1331822918, u'll': [42.576698, -70.954903]}\n",
        "America/Denver\n"
       ]
      }
     ],
     "prompt_number": 9
    },
    {
     "cell_type": "markdown",
     "metadata": {},
     "source": [
      "time_zones = [rec['tz'] for rec in records]  \n",
      "KeyError\u304c\u51fa\u308b\u2192\u5168\u3066\u306erecord\u306btz\u8981\u7d20\u304c\u3042\u308b\u308f\u3051\u3067\u306f\u306a\u3044\u3089\u3057\u3044  \n",
      "\u2191\u306a\u306e\u3067\u3001if\u6587\u3092\u5165\u308c\u3066\u8981\u7d20\u304c\u7121\u3044\u884c\u3092\u7121\u8996\u3059\u308b"
     ]
    },
    {
     "cell_type": "code",
     "collapsed": false,
     "input": [
      "time_zones = [rec['tz'] for rec in records if 'tz' in rec]\n",
      "time_zones[:10]"
     ],
     "language": "python",
     "metadata": {},
     "outputs": [
      {
       "metadata": {},
       "output_type": "pyout",
       "prompt_number": 10,
       "text": [
        "[u'America/New_York',\n",
        " u'America/Denver',\n",
        " u'America/New_York',\n",
        " u'America/Sao_Paulo',\n",
        " u'America/New_York',\n",
        " u'America/New_York',\n",
        " u'Europe/Warsaw',\n",
        " u'',\n",
        " u'',\n",
        " u'']"
       ]
      }
     ],
     "prompt_number": 10
    },
    {
     "cell_type": "markdown",
     "metadata": {},
     "source": [
      "## \u30bf\u30a4\u30e0\u30be\u30fc\u30f3\u306e\u96c6\u8a08\u3092\u3059\u308b\n",
      "### \u6a19\u6e96\u30e9\u30a4\u30d6\u30e9\u30ea\u3067\u3084\u3063\u3066\u307f\u308b"
     ]
    },
    {
     "cell_type": "code",
     "collapsed": false,
     "input": [
      "from collections import defaultdict\n",
      "\n",
      "# \u96c6\u8a08\u7528\u306e\u95a2\u6570\u306e\u5b9a\u7fa9\n",
      "def get_counts(sequence):\n",
      "    counts={}\n",
      "    for x in sequence:\n",
      "        if x in counts:\n",
      "            counts[x] += 1\n",
      "        else:\n",
      "            counts[x] = 1\n",
      "    return counts\n",
      "def get_counts2(sequence):\n",
      "    counts = defaultdict(int) # \u52d5\u7684\u306b\u8f9e\u66f8\u3092\u751f\u6210\u3057\u3001\u5024\u30920\u306b\u521d\u671f\u5316\n",
      "    for x in sequence:\n",
      "        counts[x] += 1\n",
      "    return counts\n",
      "\n",
      "# \u30ab\u30a6\u30f3\u30c8\u6570\u4e0a\u4f4d\u306e\u8981\u7d20\u3092\u8fd4\u3059\n",
      "def top_counts(count_dict, n=10):\n",
      "    value_key_pairs = [(count, tz) for tz, count in count_dict.items()]\n",
      "    value_key_pairs.sort()\n",
      "    return value_key_pairs[-n:]"
     ],
     "language": "python",
     "metadata": {},
     "outputs": [],
     "prompt_number": 20
    },
    {
     "cell_type": "markdown",
     "metadata": {},
     "source": [
      "collections.defaultdict()\u3092\u4f7f\u3046\u3068\u52d5\u7684\u306b\u8f9e\u66f8\u306e\u30e1\u30e2\u30ea\u3092\u78ba\u4fdd\u3057\u3066\u304f\u308c\u308b\u3002\u3059\u3054\u3044\uff01  \n",
      "\u3055\u3089\u306b\u3001\uff10\u3067\u521d\u671f\u5316\u3082\u3057\u3066\u304f\u308c\u308b\u3002"
     ]
    },
    {
     "cell_type": "code",
     "collapsed": false,
     "input": [
      "counts = get_counts2(time_zones)\n",
      "print counts['America/New_York']\n",
      "print len(time_zones)\n",
      "print len(counts)\n",
      "### \u4e0a\u4f4d\uff11\uff10\u4ef6\u306e\u30bf\u30a4\u30e0\u30be\u30fc\u30f3\u3092\u8abf\u3079\u308b\n",
      "print top_counts(counts)"
     ],
     "language": "python",
     "metadata": {},
     "outputs": [
      {
       "output_type": "stream",
       "stream": "stdout",
       "text": [
        "1251\n",
        "3440\n",
        "97\n",
        "[(33, u'America/Sao_Paulo'), (35, u'Europe/Madrid'), (36, u'Pacific/Honolulu'), (37, u'Asia/Tokyo'), (74, u'Europe/London'), (191, u'America/Denver'), (382, u'America/Los_Angeles'), (400, u'America/Chicago'), (521, u''), (1251, u'America/New_York')]\n"
       ]
      }
     ],
     "prompt_number": 21
    },
    {
     "cell_type": "markdown",
     "metadata": {},
     "source": [
      "#### collection.Counter\u3092\u4f7f\u3046\u3068\u3068\u3063\u3066\u3082\u7c21\u5358"
     ]
    },
    {
     "cell_type": "code",
     "collapsed": false,
     "input": [
      "from collections import Counter\n",
      "\n",
      "### collection.Counter\u3092\u4f7f\u3046\u3068\u3068\u3063\u3066\u3082\u7c21\u5358\n",
      "counts = Counter(time_zones)\n",
      "print counts.most_common(10)"
     ],
     "language": "python",
     "metadata": {},
     "outputs": [
      {
       "output_type": "stream",
       "stream": "stdout",
       "text": [
        "[(u'America/New_York', 1251), (u'', 521), (u'America/Chicago', 400), (u'America/Los_Angeles', 382), (u'America/Denver', 191), (u'Europe/London', 74), (u'Asia/Tokyo', 37), (u'Pacific/Honolulu', 36), (u'Europe/Madrid', 35), (u'America/Sao_Paulo', 33)]\n"
       ]
      }
     ],
     "prompt_number": 23
    },
    {
     "cell_type": "markdown",
     "metadata": {},
     "source": [
      "### pandas\u30e9\u30a4\u30d6\u30e9\u30ea\u3092\u4f7f\u3046"
     ]
    },
    {
     "cell_type": "code",
     "collapsed": false,
     "input": [
      "from pandas import DataFrame, Series\n",
      "\n",
      "frame = DataFrame(records)\n",
      "#print frame\n",
      "tz_counts = frame['tz'].value_counts()\n",
      "#### frame['tz']\u3067tz\u5217\u3060\u3051\u3092\u53d6\u5f97\u3002\n",
      "#### \u5f62\u5f0f\u306fSeries\u30aa\u30d6\u30b8\u30a7\u30af\u30c8\u5f62\u5f0f\u306b\u306a\u308b\n",
      "#print tz_counts[:10]\n",
      "clean_tz = frame['tz'].fillna('Missing') # fillna\u30e1\u30bd\u30c3\u30c9\u3067NA\u306b\u5024\u3092\u4ee3\u5165\n",
      "clean_tz[clean_tz == ''] = 'Unknown' # \u7a7a\u767d\u306e\u8981\u7d20\u304c\u3042\u3063\u305f\u3089\u5024\u3092\u4ee3\u5165\n",
      "tz_counts = clean_tz.value_counts()\n",
      "print tz_counts[:10]\n",
      "\n",
      "tz_counts[:10].plot(kind='barh', rot=0) # pandas\u306eplot\u30e1\u30bd\u30c3\u30c9\n",
      "plt.show() # matplotlib\u3067\u753b\u50cf\u3092\u8868\u793a\u3059\u308b"
     ],
     "language": "python",
     "metadata": {},
     "outputs": [
      {
       "output_type": "stream",
       "stream": "stdout",
       "text": [
        "America/New_York       1251\n",
        "Unknown                 521\n",
        "America/Chicago         400\n",
        "America/Los_Angeles     382\n",
        "America/Denver          191\n",
        "Missing                 120\n",
        "Europe/London            74\n",
        "Asia/Tokyo               37\n",
        "Pacific/Honolulu         36\n",
        "Europe/Madrid            35\n",
        "dtype: int64\n"
       ]
      },
      {
       "metadata": {},
       "output_type": "display_data",
       "png": "[encoded data removed]",
       "text": [
        "<matplotlib.figure.Figure at 0x1085936d0>"
       ]
      }
     ],
     "prompt_number": 26
    },
    {
     "cell_type": "markdown",
     "metadata": {},
     "source": [
      "## UA\u306e\u96c6\u8a08\u3092\u3084\u3063\u3066\u307f\u308b"
     ]
    },
    {
     "cell_type": "code",
     "collapsed": false,
     "input": [
      "print frame['a'][1]\n",
      "print frame['a'][50]\n",
      "print frame['a'][51]"
     ],
     "language": "python",
     "metadata": {},
     "outputs": [
      {
       "output_type": "stream",
       "stream": "stdout",
       "text": [
        "GoogleMaps/RochesterNY\n",
        "Mozilla/5.0 (Windows NT 5.1; rv:10.0.2) Gecko/20100101 Firefox/10.0.2\n",
        "Mozilla/5.0 (Linux; U; Android 2.2.2; en-us; LG-P925/V10e Build/FRG83G) AppleWebKit/533.1 (KHTML, like Gecko) Version/4.0 Mobile Safari/533.1\n"
       ]
      }
     ],
     "prompt_number": 30
    },
    {
     "cell_type": "code",
     "collapsed": false,
     "input": [
      "### UA\u306e\u5148\u982d\u30c8\u30fc\u30af\u30f3\u3092\u5207\u308a\u51fa\u3057\u3066\u96c6\u8a08\u3059\u308b\n",
      "results = Series([x.split()[0] for x in frame.a.dropna()])\n",
      "results[:5]"
     ],
     "language": "python",
     "metadata": {},
     "outputs": [
      {
       "metadata": {},
       "output_type": "pyout",
       "prompt_number": 34,
       "text": [
        "0               Mozilla/5.0\n",
        "1    GoogleMaps/RochesterNY\n",
        "2               Mozilla/4.0\n",
        "3               Mozilla/5.0\n",
        "4               Mozilla/5.0\n",
        "dtype: object"
       ]
      }
     ],
     "prompt_number": 34
    },
    {
     "cell_type": "markdown",
     "metadata": {},
     "source": [
      "* \u2191Series\u30aa\u30d6\u30b8\u30a7\u30af\u30c8\u3067\u3001UA\u306e\u5148\u982d\u3092\u5207\u308a\u51fa\u3057\u305f\u30aa\u30d6\u30b8\u30a7\u30af\u30c8\u3092\u4f5c\u6210\n",
      " * str.split(sep) : sep\u3067\u5206\u5272\u3002sep\u304c\u6307\u5b9a\u3055\u308c\u306a\u3044\u5834\u5408\u30b9\u30da\u30fc\u30b9\u3001\u30bf\u30d6\u3001\u6539\u884c\u6587\u5b57\u5217\u3067\u5206\u5272\n",
      " * dropna : \u6b20\u640d\u5024\u306e\u3042\u308bindex\u3092\u524a\u9664"
     ]
    },
    {
     "cell_type": "code",
     "collapsed": false,
     "input": [
      "results.value_counts()[:8]"
     ],
     "language": "python",
     "metadata": {},
     "outputs": [
      {
       "metadata": {},
       "output_type": "pyout",
       "prompt_number": 35,
       "text": [
        "Mozilla/5.0                 2594\n",
        "Mozilla/4.0                  601\n",
        "GoogleMaps/RochesterNY       121\n",
        "Opera/9.80                    34\n",
        "TEST_INTERNET_AGENT           24\n",
        "GoogleProducer                21\n",
        "Mozilla/6.0                    5\n",
        "BlackBerry8520/5.0.0.681       4\n",
        "dtype: int64"
       ]
      }
     ],
     "prompt_number": 35
    },
    {
     "cell_type": "markdown",
     "metadata": {},
     "source": [
      "#### Windows\u306e\u6587\u5b57\u5217\u304c\u5165\u3063\u3066\u3044\u308bUA\u3068\u305d\u308c\u4ee5\u5916\u3092\u5206\u3051\u3066\u307f\u308b"
     ]
    },
    {
     "cell_type": "markdown",
     "metadata": {},
     "source": [
      "* frame\u30aa\u30d6\u30b8\u30a7\u30af\u30c8\u306b\u5bfe\u3057\u3066\u3001UA\u304c\u5b58\u5728\u3057\u3066\u3044\u306a\u3044\u30ec\u30b3\u30fc\u30c9\u3092\u9664\u5916"
     ]
    },
    {
     "cell_type": "code",
     "collapsed": false,
     "input": [
      "cframe = frame[frame.notnull()]"
     ],
     "language": "python",
     "metadata": {},
     "outputs": [],
     "prompt_number": 39
    },
    {
     "cell_type": "markdown",
     "metadata": {},
     "source": [
      "* Numpy\u306eWhere\u3092\u4f7f\u3063\u3066\u3001\u7279\u5b9a\u6587\u5b57\u5217\u304c\u5b58\u5728\u3059\u308b\u304b\u3092\u5224\u5b9a"
     ]
    },
    {
     "cell_type": "code",
     "collapsed": false,
     "input": [
      "operating_system = np.where(cframe['a'].str.contains('Windows'), 'Windows', 'notWindows')\n",
      "operating_system[:5]"
     ],
     "language": "python",
     "metadata": {},
     "outputs": [
      {
       "metadata": {},
       "output_type": "pyout",
       "prompt_number": 40,
       "text": [
        "array(['Windows', 'notWindows', 'Windows', 'notWindows', 'Windows'], \n",
        "      dtype='|S10')"
       ]
      }
     ],
     "prompt_number": 40
    },
    {
     "cell_type": "markdown",
     "metadata": {},
     "source": [
      "cframe\u306bpandas\u306egroupby\u3092\u9069\u7528\u3057\u3066cframe\u306e\u30ec\u30b3\u30fc\u30c9\u3092tz\u3068OS\u306e\u7d44\u307f\u5408\u308f\u305b\u3054\u3068\u306b\u30b0\u30eb\u30fc\u30d7\u5316  "
     ]
    },
    {
     "cell_type": "code",
     "collapsed": false,
     "input": [
      "by_tz_os = cframe.groupby(['tz', operating_system])\n",
      "print by_tz_os.size().unstack().fillna(0)[:10]"
     ],
     "language": "python",
     "metadata": {},
     "outputs": [
      {
       "output_type": "stream",
       "stream": "stdout",
       "text": [
        "                                Windows  notWindows\n",
        "tz                                                 \n",
        "                                    276         245\n",
        "Africa/Cairo                          3           0\n",
        "Africa/Casablanca                     1           0\n",
        "Africa/Ceuta                          2           0\n",
        "Africa/Johannesburg                   1           0\n",
        "Africa/Lusaka                         1           0\n",
        "America/Anchorage                     1           4\n",
        "America/Argentina/Buenos_Aires        0           1\n",
        "America/Argentina/Cordoba             1           0\n",
        "America/Argentina/Mendoza             1           0\n"
       ]
      }
     ],
     "prompt_number": 44
    },
    {
     "cell_type": "markdown",
     "metadata": {},
     "source": [
      "\u30b0\u30eb\u30fc\u30d7\u5316\u3057\u305f\u7d50\u679c\u3092\u30ab\u30a6\u30f3\u30c8\u3059\u308b\u3002\u96c6\u8a08\u306fsize()\u3067\u53ef\u80fd\u3060\u304c\u3001\u898b\u3084\u3059\u304f\u3059\u308b\u305f\u3081\u306bpandas.DataFrame.unstack()\u3092\u4f7f\u3063\u3066\u8868\u5f62\u5f0f\u3067\u51fa\u529b\u3057\u3066\u3044\u308b\u3002\n",
      "fillna(0) : \u6b20\u640d\u5024\u3092\uff10\u3067\u57cb\u3081\u308b  "
     ]
    },
    {
     "cell_type": "code",
     "collapsed": false,
     "input": [
      "agg_counts = by_tz_os.size().unstack().fillna(0)\n",
      "agg_counts[:10]"
     ],
     "language": "python",
     "metadata": {},
     "outputs": [
      {
       "html": [
        "<div style=\"max-height:1000px;max-width:1500px;overflow:auto;\">\n",
        "<table border=\"1\" class=\"dataframe\">\n",
        "  <thead>\n",
        "    <tr style=\"text-align: right;\">\n",
        "      <th></th>\n",
        "      <th>Windows</th>\n",
        "      <th>notWindows</th>\n",
        "    </tr>\n",
        "    <tr>\n",
        "      <th>tz</th>\n",
        "      <th></th>\n",
        "      <th></th>\n",
        "    </tr>\n",
        "  </thead>\n",
        "  <tbody>\n",
        "    <tr>\n",
        "      <th></th>\n",
        "      <td> 276</td>\n",
        "      <td> 245</td>\n",
        "    </tr>\n",
        "    <tr>\n",
        "      <th>Africa/Cairo</th>\n",
        "      <td>   3</td>\n",
        "      <td>   0</td>\n",
        "    </tr>\n",
        "    <tr>\n",
        "      <th>Africa/Casablanca</th>\n",
        "      <td>   1</td>\n",
        "      <td>   0</td>\n",
        "    </tr>\n",
        "    <tr>\n",
        "      <th>Africa/Ceuta</th>\n",
        "      <td>   2</td>\n",
        "      <td>   0</td>\n",
        "    </tr>\n",
        "    <tr>\n",
        "      <th>Africa/Johannesburg</th>\n",
        "      <td>   1</td>\n",
        "      <td>   0</td>\n",
        "    </tr>\n",
        "    <tr>\n",
        "      <th>Africa/Lusaka</th>\n",
        "      <td>   1</td>\n",
        "      <td>   0</td>\n",
        "    </tr>\n",
        "    <tr>\n",
        "      <th>America/Anchorage</th>\n",
        "      <td>   1</td>\n",
        "      <td>   4</td>\n",
        "    </tr>\n",
        "    <tr>\n",
        "      <th>America/Argentina/Buenos_Aires</th>\n",
        "      <td>   0</td>\n",
        "      <td>   1</td>\n",
        "    </tr>\n",
        "    <tr>\n",
        "      <th>America/Argentina/Cordoba</th>\n",
        "      <td>   1</td>\n",
        "      <td>   0</td>\n",
        "    </tr>\n",
        "    <tr>\n",
        "      <th>America/Argentina/Mendoza</th>\n",
        "      <td>   1</td>\n",
        "      <td>   0</td>\n",
        "    </tr>\n",
        "  </tbody>\n",
        "</table>\n",
        "</div>"
       ],
       "metadata": {},
       "output_type": "pyout",
       "prompt_number": 45,
       "text": [
        "                                Windows  notWindows\n",
        "tz                                                 \n",
        "                                    276         245\n",
        "Africa/Cairo                          3           0\n",
        "Africa/Casablanca                     1           0\n",
        "Africa/Ceuta                          2           0\n",
        "Africa/Johannesburg                   1           0\n",
        "Africa/Lusaka                         1           0\n",
        "America/Anchorage                     1           4\n",
        "America/Argentina/Buenos_Aires        0           1\n",
        "America/Argentina/Cordoba             1           0\n",
        "America/Argentina/Mendoza             1           0"
       ]
      }
     ],
     "prompt_number": 45
    },
    {
     "cell_type": "markdown",
     "metadata": {},
     "source": [
      "#### \u30ab\u30a6\u30f3\u30c8\u3057\u305f\u7d50\u679c\u3092\u4e26\u3073\u66ff\u3048\n",
      "\n",
      "* argsort()\u306f\u4e26\u3079\u66ff\u3048\u305f\u7d50\u679c\u306e\u914d\u5217\u306e\u30a4\u30f3\u30c7\u30c3\u30af\u30b9\u3092\u8fd4\u3059\u3053\u3068\u306b\u6ce8\u610f\n",
      "* \u4e26\u3079\u66ff\u3048\u306f\u3001\u5404\u5217\u306b\u5bfe\u3057\u3066\u884c\u308f\u308c\u308b"
     ]
    },
    {
     "cell_type": "code",
     "collapsed": false,
     "input": [
      "indexer = agg_counts.sum(1).argsort()\n",
      "print indexer[:10]\n"
     ],
     "language": "python",
     "metadata": {},
     "outputs": [
      {
       "output_type": "stream",
       "stream": "stdout",
       "text": [
        "tz\n",
        "                                  24\n",
        "Africa/Cairo                      20\n",
        "Africa/Casablanca                 21\n",
        "Africa/Ceuta                      92\n",
        "Africa/Johannesburg               87\n",
        "Africa/Lusaka                     53\n",
        "America/Anchorage                 54\n",
        "America/Argentina/Buenos_Aires    57\n",
        "America/Argentina/Cordoba         26\n",
        "America/Argentina/Mendoza         55\n",
        "dtype: int64\n"
       ]
      }
     ],
     "prompt_number": 59
    },
    {
     "cell_type": "markdown",
     "metadata": {},
     "source": [
      "* \u2191\u306e\uff12\u5217\u76ee\u306f\u914d\u5217\u306e\u30a4\u30f3\u30c7\u30c3\u30af\u30b9\u306a\u306e\u3067\u3001agg_counts\u306e\u8981\u7d20\u3092\u53d6\u3063\u3066\u3053\u306a\u3044\u3068\u3044\u3051\u306a\u3044\u2193"
     ]
    },
    {
     "cell_type": "code",
     "collapsed": false,
     "input": [
      "print agg_counts.take([24])\n",
      "print agg_counts.take([20])\n",
      "print agg_counts.take([21])\n",
      "print agg_counts.take([92])"
     ],
     "language": "python",
     "metadata": {},
     "outputs": [
      {
       "output_type": "stream",
       "stream": "stdout",
       "text": [
        "                  Windows  notWindows\n",
        "tz                                   \n",
        "America/Mazatlan        0           1\n",
        "                Windows  notWindows\n",
        "tz                                 \n",
        "America/La_Paz        1           0\n",
        "              Windows  notWindows\n",
        "tz                               \n",
        "America/Lima        1           0\n",
        "                  Windows  notWindows\n",
        "tz                                   \n",
        "Europe/Volgograd        1           0\n"
       ]
      }
     ],
     "prompt_number": 50
    },
    {
     "cell_type": "markdown",
     "metadata": {},
     "source": [
      "* agg_counts\u306e\u672b\u5c3e\u304b\u308910\u30ec\u30b3\u30fc\u30c9\u3092\u53d6\u5f97"
     ]
    },
    {
     "cell_type": "code",
     "collapsed": false,
     "input": [
      "count_subset = agg_counts.take(indexer[-10:])\n",
      "count_subset"
     ],
     "language": "python",
     "metadata": {},
     "outputs": [
      {
       "html": [
        "<div style=\"max-height:1000px;max-width:1500px;overflow:auto;\">\n",
        "<table border=\"1\" class=\"dataframe\">\n",
        "  <thead>\n",
        "    <tr style=\"text-align: right;\">\n",
        "      <th></th>\n",
        "      <th>Windows</th>\n",
        "      <th>notWindows</th>\n",
        "    </tr>\n",
        "    <tr>\n",
        "      <th>tz</th>\n",
        "      <th></th>\n",
        "      <th></th>\n",
        "    </tr>\n",
        "  </thead>\n",
        "  <tbody>\n",
        "    <tr>\n",
        "      <th>America/Sao_Paulo</th>\n",
        "      <td>  20</td>\n",
        "      <td>  13</td>\n",
        "    </tr>\n",
        "    <tr>\n",
        "      <th>Europe/Madrid</th>\n",
        "      <td>  19</td>\n",
        "      <td>  16</td>\n",
        "    </tr>\n",
        "    <tr>\n",
        "      <th>Pacific/Honolulu</th>\n",
        "      <td>  36</td>\n",
        "      <td>   0</td>\n",
        "    </tr>\n",
        "    <tr>\n",
        "      <th>Asia/Tokyo</th>\n",
        "      <td>  35</td>\n",
        "      <td>   2</td>\n",
        "    </tr>\n",
        "    <tr>\n",
        "      <th>Europe/London</th>\n",
        "      <td>  31</td>\n",
        "      <td>  43</td>\n",
        "    </tr>\n",
        "    <tr>\n",
        "      <th>America/Denver</th>\n",
        "      <td>  59</td>\n",
        "      <td> 132</td>\n",
        "    </tr>\n",
        "    <tr>\n",
        "      <th>America/Los_Angeles</th>\n",
        "      <td> 252</td>\n",
        "      <td> 130</td>\n",
        "    </tr>\n",
        "    <tr>\n",
        "      <th>America/Chicago</th>\n",
        "      <td> 285</td>\n",
        "      <td> 115</td>\n",
        "    </tr>\n",
        "    <tr>\n",
        "      <th></th>\n",
        "      <td> 276</td>\n",
        "      <td> 245</td>\n",
        "    </tr>\n",
        "    <tr>\n",
        "      <th>America/New_York</th>\n",
        "      <td> 912</td>\n",
        "      <td> 339</td>\n",
        "    </tr>\n",
        "  </tbody>\n",
        "</table>\n",
        "</div>"
       ],
       "metadata": {},
       "output_type": "pyout",
       "prompt_number": 60,
       "text": [
        "                     Windows  notWindows\n",
        "tz                                      \n",
        "America/Sao_Paulo         20          13\n",
        "Europe/Madrid             19          16\n",
        "Pacific/Honolulu          36           0\n",
        "Asia/Tokyo                35           2\n",
        "Europe/London             31          43\n",
        "America/Denver            59         132\n",
        "America/Los_Angeles      252         130\n",
        "America/Chicago          285         115\n",
        "                         276         245\n",
        "America/New_York         912         339"
       ]
      }
     ],
     "prompt_number": 60
    },
    {
     "cell_type": "code",
     "collapsed": false,
     "input": [
      "# \u30d7\u30ed\u30c3\u30c8\u3059\u308b\n",
      "count_subset.plot(kind='barh', stacked=True)"
     ],
     "language": "python",
     "metadata": {},
     "outputs": [
      {
       "metadata": {},
       "output_type": "pyout",
       "prompt_number": 61,
       "text": [
        "<matplotlib.axes._subplots.AxesSubplot at 0x108a8de10>"
       ]
      },
      {
       "metadata": {},
       "output_type": "display_data",
       "png": "[encoded data removed]",
       "text": [
        "<matplotlib.figure.Figure at 0x108a8d5d0>"
       ]
      }
     ],
     "prompt_number": 61
    },
    {
     "cell_type": "markdown",
     "metadata": {},
     "source": [
      "* \u76f8\u5bfe\u7684\u306a\u5272\u5408\u3092\u89b3\u308c\u308b\u3088\u3046\u306b\u3001\u5404\u884c\u304c\u6700\u59271\u3067\u6b63\u898f\u5316"
     ]
    },
    {
     "cell_type": "code",
     "collapsed": false,
     "input": [
      "normed_subset = count_subset.div(count_subset.sum(1), axis=0)\n",
      "normed_subset.plot(kind='barh', stacked=True)"
     ],
     "language": "python",
     "metadata": {},
     "outputs": [
      {
       "metadata": {},
       "output_type": "pyout",
       "prompt_number": 62,
       "text": [
        "<matplotlib.axes._subplots.AxesSubplot at 0x108b47d90>"
       ]
      },
      {
       "metadata": {},
       "output_type": "display_data",
       "png": "[encoded data removed]",
       "text": [
        "<matplotlib.figure.Figure at 0x108a8dd90>"
       ]
      }
     ],
     "prompt_number": 62
    },
    {
     "cell_type": "markdown",
     "metadata": {},
     "source": [
      "## 2.2 \u30c7\u30fc\u30bf\u5206\u6790\u306e\u4f8b\uff1aMovieLens (\u6620\u753b\u8a55\u4fa1\u30c7\u30fc\u30bf)\n",
      "* \u30c7\u30fc\u30bf\u2192MovieLens 1M (100\u4e07\u4ef6\u306e\u6620\u753b\u8a55\u4fa1\u30c7\u30fc\u30bf)\n",
      "    * \u8a55\u4fa1\u3001\u30e6\u30fc\u30b6\u60c5\u5831\u3001\u6620\u753b\u60c5\u5831\u3000\u306e\u8868\u5f62\u5f0f\u306b\u306a\u3063\u3066\u3044\u308b"
     ]
    },
    {
     "cell_type": "code",
     "collapsed": false,
     "input": [
      "import pandas as pd\n"
     ],
     "language": "python",
     "metadata": {},
     "outputs": []
    }
   ],
   "metadata": {}
  }
 ]
}