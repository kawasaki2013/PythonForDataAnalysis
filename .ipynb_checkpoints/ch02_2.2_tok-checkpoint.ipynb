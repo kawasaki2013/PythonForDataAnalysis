{
 "metadata": {
  "name": "",
  "signature": "sha256:cb51793f8e027ac9ab4315f06e9d92f821e87436be22fc7fd73c35f3ffd46495"
 },
 "nbformat": 3,
 "nbformat_minor": 0,
 "worksheets": []
}