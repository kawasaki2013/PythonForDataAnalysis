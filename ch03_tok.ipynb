{
 "cells": [
  {
   "cell_type": "markdown",
   "metadata": {},
   "source": [
    "# ３章 IPython\n",
    "* IPythonの使い方とか\n",
    "* 飛ばしながら読む"
   ]
  },
  {
   "cell_type": "code",
   "execution_count": 1,
   "metadata": {
    "collapsed": true
   },
   "outputs": [],
   "source": [
    "b = [1,2,3,4]"
   ]
  },
  {
   "cell_type": "code",
   "execution_count": 2,
   "metadata": {
    "collapsed": true
   },
   "outputs": [],
   "source": [
    "# ? で一般情報の表示\n",
    "b?"
   ]
  },
  {
   "cell_type": "code",
   "execution_count": 5,
   "metadata": {
    "collapsed": true
   },
   "outputs": [],
   "source": [
    "# docstring : 関数の説明。\n",
    "# \"\"\" aaaa \"\"\"  こうやって囲む\n",
    "def add_numbers(a,b):\n",
    "    \"\"\"\n",
    "    Add two numbers\n",
    "    This is Docstring\n",
    "    \"\"\"\n",
    "    return a+b\n"
   ]
  },
  {
   "cell_type": "code",
   "execution_count": 6,
   "metadata": {
    "collapsed": true
   },
   "outputs": [],
   "source": [
    "add_numbers?"
   ]
  },
  {
   "cell_type": "code",
   "execution_count": 7,
   "metadata": {
    "collapsed": true
   },
   "outputs": [],
   "source": [
    "# ??でソースも表示\n",
    "add_numbers??"
   ]
  },
  {
   "cell_type": "code",
   "execution_count": 8,
   "metadata": {
    "collapsed": true
   },
   "outputs": [],
   "source": [
    "# ワイルドカードを使って関数を列挙\n",
    "np.*load*?"
   ]
  },
  {
   "cell_type": "markdown",
   "metadata": {},
   "source": [
    "* \"%run\" でpythonファイル（*.py）を実行できる\n",
    "* ex. > %run script.py\n",
    "* コマンドライン引数が必要な場合には、後ろに続ける"
   ]
  },
  {
   "cell_type": "markdown",
   "metadata": {},
   "source": [
    "## OSとの連携"
   ]
  },
  {
   "cell_type": "code",
   "execution_count": 9,
   "metadata": {
    "collapsed": false
   },
   "outputs": [
    {
     "name": "stdout",
     "output_type": "stream",
     "text": [
      "README.md          ch02.py            ch02_2.3_tok.ipynb \u001b[34mpydata-book\u001b[m\u001b[m\r\n",
      "Untitled.ipynb     ch02_2.2_tok.ipynb ch02_tok.ipynb\r\n"
     ]
    }
   ],
   "source": [
    "# !で書き始めると、シェルで実行\n",
    "!ls"
   ]
  },
  {
   "cell_type": "code",
   "execution_count": 12,
   "metadata": {
    "collapsed": false
   },
   "outputs": [
    {
     "data": {
      "text/plain": [
       "['\\tinet 192.168.2.105 netmask 0xffffff00 broadcast 192.168.2.255']"
      ]
     },
     "execution_count": 12,
     "metadata": {},
     "output_type": "execute_result"
    }
   ],
   "source": [
    "# シェルの結果をIPythonで保存\n",
    "ip_info = !ifconfig en0 | grep \"inet \"\n",
    "ip_info"
   ]
  },
  {
   "cell_type": "code",
   "execution_count": 13,
   "metadata": {
    "collapsed": false,
    "scrolled": true
   },
   "outputs": [
    {
     "data": {
      "text/plain": [
       "'inet 192.168.2.105 netmask 0xffffff00 broadcast 192.168.2.255'"
      ]
     },
     "execution_count": 13,
     "metadata": {},
     "output_type": "execute_result"
    }
   ],
   "source": [
    "ip_info[0].strip()"
   ]
  },
  {
   "cell_type": "code",
   "execution_count": 14,
   "metadata": {
    "collapsed": false,
    "scrolled": true
   },
   "outputs": [
    {
     "name": "stdout",
     "output_type": "stream",
     "text": [
      "ch02_2.2_tok.ipynb ch02_2.3_tok.ipynb ch02_tok.ipynb\r\n"
     ]
    }
   ],
   "source": [
    "# pythonで定義した変数をシェルに渡す\n",
    "foo = 'ch02_*'\n",
    "!ls $foo"
   ]
  },
  {
   "cell_type": "code",
   "execution_count": null,
   "metadata": {
    "collapsed": true
   },
   "outputs": [],
   "source": []
  }
 ],
 "metadata": {
  "kernelspec": {
   "display_name": "Python 3",
   "language": "python",
   "name": "python3"
  },
  "language_info": {
   "codemirror_mode": {
    "name": "ipython",
    "version": 3
   },
   "file_extension": ".py",
   "mimetype": "text/x-python",
   "name": "python",
   "nbconvert_exporter": "python",
   "pygments_lexer": "ipython3",
   "version": "3.4.3"
  }
 },
 "nbformat": 4,
 "nbformat_minor": 0
}
